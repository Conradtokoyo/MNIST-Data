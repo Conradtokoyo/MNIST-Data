{
  "nbformat": 4,
  "nbformat_minor": 0,
  "metadata": {
    "colab": {
      "name": "Fastai Kaggle -MNIST",
      "provenance": [],
      "collapsed_sections": [],
      "authorship_tag": "ABX9TyOUPLud+pjJKTRtxTjYqXRm",
      "include_colab_link": true
    },
    "kernelspec": {
      "name": "python3",
      "display_name": "Python 3"
    },
    "accelerator": "GPU"
  },
  "cells": [
    {
      "cell_type": "markdown",
      "metadata": {
        "id": "view-in-github",
        "colab_type": "text"
      },
      "source": [
        "<a href=\"https://colab.research.google.com/github/Conradtokoyo/MNIST-Data/blob/main/Fastai_Kaggle_MNIST.ipynb\" target=\"_parent\"><img src=\"https://colab.research.google.com/assets/colab-badge.svg\" alt=\"Open In Colab\"/></a>"
      ]
    },
    {
      "cell_type": "markdown",
      "metadata": {
        "id": "uYchnyHXtyd8"
      },
      "source": [
        "##MNIST model with Fastai\r\n",
        "\r\n",
        "This notebook installs fast AI and grabs the MNIST dataset from Kaggle. It then trains and tests a model using fast ai and creates a csv file for submission to Kaggle.\r\n",
        "\r\n",
        "Most of the foundation of the code was from lesson 2 of fastai's Practical Deep Learning for Coders found here https://course.fast.ai/.\r\n",
        "\r\n",
        "The final submission to Kaggle got a public score of 0.97396.\r\n",
        "\r\n",
        "Resources that contributed code to this notebook:\r\n",
        "<br>\r\n",
        "https://www.kaggle.com/stefanbuenten/mnist-test-with-fastai\r\n",
        "<br>\r\n",
        "https://www.kaggle.com/daneiref/yet-another-mnist-using-fastai\r\n"
      ]
    },
    {
      "cell_type": "code",
      "metadata": {
        "id": "iD5d1yJEfI3u"
      },
      "source": [
        "#hide\r\n",
        "#install and import fastbook to colab\r\n",
        "!pip install -Uqq fastbook\r\n",
        "import fastbook\r\n",
        "fastbook.setup_book()"
      ],
      "execution_count": null,
      "outputs": []
    },
    {
      "cell_type": "code",
      "metadata": {
        "id": "w9w_O68pfTcL"
      },
      "source": [
        "#hide\r\n",
        "#import fast ai \r\n",
        "from fastai.vision.all import *\r\n",
        "from fastbook import *\r\n",
        "from fastai.vision.widgets import *"
      ],
      "execution_count": null,
      "outputs": []
    },
    {
      "cell_type": "markdown",
      "metadata": {
        "id": "_cVjb7C2v6cq"
      },
      "source": [
        "##Load Kaggle Data\r\n",
        "\r\n",
        "This step requires a JSON file  generated from your user account.\r\n",
        "\r\n",
        "Instructions can be found here:\r\n",
        "<br>\r\n",
        "https://towardsdatascience.com/how-to-use-kaggle-datasets-in-google-colab-bca5e452a676 "
      ]
    },
    {
      "cell_type": "code",
      "metadata": {
        "id": "0HtGf0HEXEa5"
      },
      "source": [
        "#Loading the json kaggle file to access kaggle data\n",
        "\n",
        "from google.colab import files\n",
        "\n",
        "uploaded = files.upload()\n",
        "\n",
        "for fn in uploaded.keys():\n",
        "  print('User uploaded file \"{name}\" with length {length} bytes'.format(\n",
        "      name=fn, length=len(uploaded[fn])))\n",
        "  \n",
        "# Then move kaggle.json into the folder where the API expects to find it.\n",
        "!mkdir -p ~/.kaggle/ && mv kaggle.json ~/.kaggle/ && chmod 600 ~/.kaggle/kaggle.json"
      ],
      "execution_count": null,
      "outputs": []
    },
    {
      "cell_type": "code",
      "metadata": {
        "id": "gcS1PoZFdMfC"
      },
      "source": [
        "#install mnist data\r\n",
        "!kaggle competitions download -c digit-recognizer\r\n",
        "!unzip train.csv.zip\r\n",
        "!unzip test.csv.zip"
      ],
      "execution_count": null,
      "outputs": []
    },
    {
      "cell_type": "code",
      "metadata": {
        "id": "L7ZmFbHybsPk"
      },
      "source": [
        "#Import pandas and read training and testing data in dataframes\n",
        "import pandas as pd \n",
        "train = pd.read_csv(\"train.csv\")\n",
        "test = pd.read_csv(\"test.csv\")\n"
      ],
      "execution_count": null,
      "outputs": []
    },
    {
      "cell_type": "code",
      "metadata": {
        "id": "NuLPCiuU_1be"
      },
      "source": [
        "#create a dataframe to store labels, another without labels, df with values only, test value df and a path variable to set location of where to store images\r\n",
        "label_df = train['label']\r\n",
        "mod_train = train.drop(columns= 'label')\r\n",
        "data_values = mod_train.values\r\n",
        "test_data_values = test.values\r\n",
        "PATH = Path('/content/gdrive/My Drive/mnist') \r\n"
      ],
      "execution_count": null,
      "outputs": []
    },
    {
      "cell_type": "markdown",
      "metadata": {
        "id": "hutmiw6oVpwn"
      },
      "source": [
        "#Create jpg images to train / validate / test model"
      ]
    },
    {
      "cell_type": "code",
      "metadata": {
        "id": "N3mfPNh_AXsi"
      },
      "source": [
        "for i in range(0, len(data_values)):\r\n",
        "\r\n",
        "    #read the correct label\r\n",
        "    correct_label = label_df[i]\r\n",
        "\r\n",
        "    #split the data into training and validation sets\r\n",
        "    if np.random.rand() < 0.8:\r\n",
        "        folder = '/train/'\r\n",
        "        train_path = f'{PATH}' + '/train/' + str(correct_label)\r\n",
        "        if not os.path.exists(train_path):\r\n",
        "          os.makedirs(train_path)\r\n",
        "\r\n",
        "    else:\r\n",
        "        folder = '/valid/'\r\n",
        "        valid_path = f'{PATH}' + '/valid/' + str(correct_label)\r\n",
        "        if not os.path.exists(valid_path):\r\n",
        "          os.makedirs(valid_path)\r\n",
        "    \r\n",
        "    img = data_values[i][:]\r\n",
        "\r\n",
        "    #reshape into 28x28 pic\r\n",
        "    img = img.reshape(28,28)\r\n",
        "\r\n",
        "    #we need three channels into the picture\r\n",
        "    img = np.stack((img,)*3,axis = -1)\r\n",
        "\r\n",
        "    #change the data type to int8\r\n",
        "    img = np.uint8(img)\r\n",
        "\r\n",
        "    #create PIL Image\r\n",
        "    new_img = Image.fromarray(img)\r\n",
        "\r\n",
        "    #save the .jpg into correct folder\r\n",
        "    new_img.save(f'{PATH}' + folder + str(correct_label) + '/' + str(i) + '.jpg', 'JPEG')"
      ],
      "execution_count": null,
      "outputs": []
    },
    {
      "cell_type": "markdown",
      "metadata": {
        "id": "ytZSElIhthUI"
      },
      "source": [
        "Create test images from test_data_values"
      ]
    },
    {
      "cell_type": "code",
      "metadata": {
        "id": "JKmgCBvZV15P"
      },
      "source": [
        "for i in range(0, len(test_data_values)):\r\n",
        "\r\n",
        "    #create test images\r\n",
        "    folder = '/test/'\r\n",
        "    test_path = f'{PATH}' + '/test/' \r\n",
        "    if not os.path.exists(test_path):\r\n",
        "      os.makedirs(test_path)\r\n",
        "    \r\n",
        "    img = test_data_values[i][:]\r\n",
        "\r\n",
        "    #reshape into 28x28 pic\r\n",
        "    img = img.reshape(28,28)\r\n",
        "\r\n",
        "    #we need three channels into the picture\r\n",
        "    img = np.stack((img,)*3,axis = -1)\r\n",
        "\r\n",
        "    #change the data type to int8\r\n",
        "    img = np.uint8(img)\r\n",
        "\r\n",
        "    #create PIL Image\r\n",
        "    new_img = Image.fromarray(img)\r\n",
        "\r\n",
        "    #save the .jpg into correct folder\r\n",
        "    new_img.save(f'{PATH}' + folder + str(i) + '.jpg', 'JPEG')"
      ],
      "execution_count": null,
      "outputs": []
    },
    {
      "cell_type": "markdown",
      "metadata": {
        "id": "GJZNcXPCrP6p"
      },
      "source": [
        "##Train Model"
      ]
    },
    {
      "cell_type": "code",
      "metadata": {
        "id": "B1vFA1S3T_aH"
      },
      "source": [
        "mnist = DataBlock(\r\n",
        "    blocks=(ImageBlock, CategoryBlock), \r\n",
        "    get_items=get_image_files,\r\n",
        "    splitter = GrandparentSplitter(train_name = \"train\", valid_name = \"valid\"),\r\n",
        "    get_y=parent_label,\r\n",
        "    item_tfms=Resize(224))\r\n",
        "\r\n",
        "dls = mnist.dataloaders(PATH)"
      ],
      "execution_count": null,
      "outputs": []
    },
    {
      "cell_type": "code",
      "metadata": {
        "id": "Purmlg3MvHFI"
      },
      "source": [
        "mnist = mnist.new(\r\n",
        "        item_tfms = RandomResizedCrop(224, min_scale = 0.5),\r\n",
        "        batch_tfms = aug_transforms())\r\n",
        "dls = mnist.dataloaders(PATH,bs = 32)"
      ],
      "execution_count": null,
      "outputs": []
    },
    {
      "cell_type": "code",
      "metadata": {
        "id": "3DSxE_rDvfpI"
      },
      "source": [
        "dls.train.show_batch(max_n = 15, nrows = 3, unique = True)"
      ],
      "execution_count": null,
      "outputs": []
    },
    {
      "cell_type": "code",
      "metadata": {
        "id": "-_vWFpQ6vxtD"
      },
      "source": [
        "learn = cnn_learner(dls, resnet18, metrics=[error_rate,accuracy])"
      ],
      "execution_count": null,
      "outputs": []
    },
    {
      "cell_type": "code",
      "metadata": {
        "id": "d5GuSbCbGQ6D",
        "colab": {
          "base_uri": "https://localhost:8080/",
          "height": 107
        },
        "outputId": "f594f121-ee78-4464-ab9c-3c225d35d3bc"
      },
      "source": [
        "learn.fit_one_cycle(2, 0.1)"
      ],
      "execution_count": null,
      "outputs": [
        {
          "output_type": "display_data",
          "data": {
            "text/html": [
              "<table border=\"1\" class=\"dataframe\">\n",
              "  <thead>\n",
              "    <tr style=\"text-align: left;\">\n",
              "      <th>epoch</th>\n",
              "      <th>train_loss</th>\n",
              "      <th>valid_loss</th>\n",
              "      <th>error_rate</th>\n",
              "      <th>accuracy</th>\n",
              "      <th>time</th>\n",
              "    </tr>\n",
              "  </thead>\n",
              "  <tbody>\n",
              "    <tr>\n",
              "      <td>0</td>\n",
              "      <td>2.187154</td>\n",
              "      <td>3.289284</td>\n",
              "      <td>0.076831</td>\n",
              "      <td>0.923169</td>\n",
              "      <td>1:48:15</td>\n",
              "    </tr>\n",
              "    <tr>\n",
              "      <td>1</td>\n",
              "      <td>0.259774</td>\n",
              "      <td>0.089024</td>\n",
              "      <td>0.023539</td>\n",
              "      <td>0.976461</td>\n",
              "      <td>02:44</td>\n",
              "    </tr>\n",
              "  </tbody>\n",
              "</table>"
            ],
            "text/plain": [
              "<IPython.core.display.HTML object>"
            ]
          },
          "metadata": {
            "tags": []
          }
        }
      ]
    },
    {
      "cell_type": "code",
      "metadata": {
        "id": "MT6oqR7ztMyL"
      },
      "source": [
        "learn.show_results()"
      ],
      "execution_count": null,
      "outputs": []
    },
    {
      "cell_type": "markdown",
      "metadata": {
        "id": "XQLzx2w5GT2V"
      },
      "source": [
        "### Exporting Model"
      ]
    },
    {
      "cell_type": "code",
      "metadata": {
        "id": "gA5jxt0A8PAW"
      },
      "source": [
        "learn.export(fname = str(PATH) + \"/mnist_model.pkl\")"
      ],
      "execution_count": null,
      "outputs": []
    },
    {
      "cell_type": "code",
      "metadata": {
        "id": "B3OAXBWvBe5Z"
      },
      "source": [
        "learn_inf = load_learner(str(PATH) + \"/mnist_model.pkl\")"
      ],
      "execution_count": null,
      "outputs": []
    },
    {
      "cell_type": "markdown",
      "metadata": {
        "id": "NZk6h1AibcDb"
      },
      "source": [
        "## Testing the model"
      ]
    },
    {
      "cell_type": "code",
      "metadata": {
        "id": "H0H-cF8TOBlB"
      },
      "source": [
        "#exported model predictions - steps\r\n",
        "\r\n",
        "#get images to run\r\n",
        "folder ='/content/gdrive/My Drive/mnist/test/'\r\n",
        "images = get_image_files(folder)\r\n",
        "\r\n",
        "#get model name\r\n",
        "name = '/mnist_model.pkl'\r\n",
        "\r\n",
        "#load model with file/path\r\n",
        "modelex = str(PATH) + name\r\n",
        "\r\n",
        "#load exported model\r\n",
        "learn = load_learner(modelex)\r\n",
        "\r\n",
        "#pass in images to create test batch\r\n",
        "dl = learn.dls.test_dl(images)"
      ],
      "execution_count": null,
      "outputs": []
    },
    {
      "cell_type": "code",
      "metadata": {
        "colab": {
          "base_uri": "https://localhost:8080/",
          "height": 17
        },
        "id": "tyiRe35k4nAl",
        "outputId": "223d1cb8-b333-41a8-a1c3-5820bf52664f"
      },
      "source": [
        "#get preds for batch\r\n",
        "pred_tensor, ignored, preds = learn.get_preds(dl=dl, with_decoded=True)"
      ],
      "execution_count": null,
      "outputs": [
        {
          "output_type": "display_data",
          "data": {
            "text/html": [
              ""
            ],
            "text/plain": [
              "<IPython.core.display.HTML object>"
            ]
          },
          "metadata": {
            "tags": []
          }
        },
        {
          "output_type": "display_data",
          "data": {
            "text/html": [
              ""
            ],
            "text/plain": [
              "<IPython.core.display.HTML object>"
            ]
          },
          "metadata": {
            "tags": []
          }
        }
      ]
    },
    {
      "cell_type": "code",
      "metadata": {
        "id": "zcdGaMwGzKuo"
      },
      "source": [
        "result = np.argmax(pred_tensor, 1)"
      ],
      "execution_count": null,
      "outputs": []
    },
    {
      "cell_type": "markdown",
      "metadata": {
        "id": "QnsZ-28orWqP"
      },
      "source": [
        "##Preparing Submission"
      ]
    },
    {
      "cell_type": "code",
      "metadata": {
        "id": "5ers7UnPoeGa"
      },
      "source": [
        "final = pd.Series(result,name='Label')\r\n",
        "submission = pd.concat([pd.Series(range(1,28001),name='ImageId'),final],axis=1)\r\n",
        "submission.to_csv(str(PATH) + '/fastai-pytorch-mnist.csv',index=False)"
      ],
      "execution_count": null,
      "outputs": []
    }
  ]
}